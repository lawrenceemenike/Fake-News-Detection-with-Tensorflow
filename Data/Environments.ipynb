{
 "cells": [
  {
   "cell_type": "markdown",
   "metadata": {},
   "source": [
    "## Python packages for Artificial Intelligence"
   ]
  },
  {
   "cell_type": "code",
   "execution_count": 51,
   "metadata": {},
   "outputs": [
    {
     "name": "stdout",
     "output_type": "stream",
     "text": [
      "X is an object of type <class 'numpy.ndarray'> \n",
      " and values\n",
      "[[0 1]\n",
      " [1 1]\n",
      " [2 2]\n",
      " [3 2]]\n",
      "You can access individual values using X[][] for 2-dimensional array 0\n",
      "X has a shape of (4, 2)\n"
     ]
    }
   ],
   "source": [
    "# NumPy - Python package for scientific computing\n",
    "# https://numpy.org/\n",
    "import numpy as np\n",
    "# NumPy arrays:\n",
    "X = np.array([[0,1],[1,1],[2,2],[3,2]] )\n",
    "print (\"X is an object of type %s \\n and values\" % (type(X)))\n",
    "print(X)\n",
    "print(\"You can access individual values using X[][] for 2-dimensional array %d\" % (X[0][0]))\n",
    "print(\"X has a shape of %s\" % (X.shape,))"
   ]
  },
  {
   "cell_type": "code",
   "execution_count": 50,
   "metadata": {},
   "outputs": [
    {
     "name": "stdout",
     "output_type": "stream",
     "text": [
      "Pandas DataFrames is a more complex structure that can contain multiple types of objects.      \n",
      "\n",
      " To view the object types use the .dtypes property:\n",
      "A    int64\n",
      "B    int64\n",
      "dtype: object\n",
      "\n",
      "Pandas provides many useful tools for data analysis and manipulation.      \n",
      "\n",
      " For example you can use .T property to quickly transpose your data: \n",
      "Original:\n",
      "   A  B\n",
      "1  0  1\n",
      "2  1  1\n",
      "3  2  2\n",
      "4  3  2\n",
      "Transpose:\n",
      "   1  2  3  4\n",
      "A  0  1  2  3\n",
      "B  1  1  2  2\n",
      "\n",
      ".describe() method can be used on a DataFrame to get statistical information: \n",
      "              A        B\n",
      "count  4.000000  4.00000\n",
      "mean   1.500000  1.50000\n",
      "std    1.290994  0.57735\n",
      "min    0.000000  1.00000\n",
      "25%    0.750000  1.00000\n",
      "50%    1.500000  1.50000\n",
      "75%    2.250000  2.00000\n",
      "max    3.000000  2.00000\n"
     ]
    }
   ],
   "source": [
    "# Pandas - Python package for data analysys\n",
    "# https://pandas.pydata.org/\n",
    "import pandas as pd\n",
    "# Pandas DataFrames\n",
    "df = pd.DataFrame(X, index=list('1234'), columns=list('AB') )\n",
    "print(\"Pandas DataFrames is a more complex structure that can contain multiple types of objects.\\\n",
    "      \\n\\n To view the object types use the .dtypes property:\\n%s\" % (df.dtypes))\n",
    "print(\"\\nPandas provides many useful tools for data analysis and manipulation.\\\n",
    "      \\n\\n For example you can use .T property to quickly transpose your data: \\nOriginal:\\n%s\\nTranspose:\\n%s\" %(df,df.T))\n",
    "print(\"\\n.describe() method can be used on a DataFrame to get statistical information: \\n%s\" % (df.describe()))\n"
   ]
  },
  {
   "cell_type": "code",
   "execution_count": 63,
   "metadata": {},
   "outputs": [
    {
     "data": {
      "image/png": "[encoded data removed]",
      "text/plain": [
       "<Figure size 432x288 with 1 Axes>"
      ]
     },
     "metadata": {
      "needs_background": "light"
     },
     "output_type": "display_data"
    }
   ],
   "source": [
    "# MatPlotLib - Python package for visualization\n",
    "# https://matplotlib.org/\n",
    "import matplotlib.pyplot as plt\n",
    "# PyPlot- visualization tool\n",
    "plt.figure()\n",
    "y = np.random.hypergeometric(ngood=10, nbad=10, nsample= 10,size=100)\n",
    "plt.plot(y)\n",
    "plt.show()"
   ]
  },
  {
   "cell_type": "code",
   "execution_count": null,
   "metadata": {},
   "outputs": [],
   "source": [
    "# Scikit-learn - Python package for machine learning and data analysis\n",
    "# https://scikit-learn.org/stable\n",
    "import sklearn"
   ]
  },
  {
   "cell_type": "markdown",
   "metadata": {},
   "source": [
    "### Cloud Computing and Big Data setup:"
   ]
  },
  {
   "cell_type": "markdown",
   "metadata": {},
   "source": [
    "\n",
    "For working with databases a relevant python package might be required for \n",
    "MySQl, MongoDB, SQLite etc.\n",
    "\n",
    "For connecting to specific cloud APIs use the instructions on their website.\n",
    "\n",
    "Google Cloud packages: https://cloud.google.com/python/references/libraries\n",
    "\n",
    "\n",
    "\n",
    "Microsoft Azure packages: https://docs.microsoft.com/en-us/azure/python\n",
    "\n",
    "\n",
    "\n",
    "Or any other Cloud Computing platform\n",
    "\n",
    "Big Data AI usually involves large text databases and Natural Language Processing techniques\n",
    "\n",
    "Natural Language Toolkit contains many techniques from NLP and is compatiable with NumPy, Pandas and TensorFlow"
   ]
  },
  {
   "cell_type": "code",
   "execution_count": null,
   "metadata": {},
   "outputs": [],
   "source": [
    "#To install nltk:\n",
    "#!pip install nltk"
   ]
  },
  {
   "cell_type": "code",
   "execution_count": 47,
   "metadata": {},
   "outputs": [],
   "source": [
    "# NLTK - Natural Language ToolKit\n",
    "# https://www.nltk.org/\n",
    "import nltk"
   ]
  },
  {
   "cell_type": "markdown",
   "metadata": {},
   "source": [
    "### AI on the Edge and IoT"
   ]
  },
  {
   "cell_type": "markdown",
   "metadata": {},
   "source": [
    "```\n",
    "Along with the basic AI packages IoT projects utilize packages like:\n",
    "sockets - package for communication over TCP/IP\n",
    "mraa - package for interfacing GPIO\n",
    "requests - package to handle HTTP communications\n",
    "\n",
    "IoT AI is very basic and simple math is used alongside database integration\n",
    "Edge computing is usually done in a fast language like C++ and runs on an embedded device\n",
    "Many modern cameras have on-board processing capabilities including object detection and pixel-by-pixel segmentation\n",
    "Python can be further used for network communication and/or server side data processing\n",
    "```"
   ]
  },
  {
   "cell_type": "markdown",
   "metadata": {},
   "source": [
    "### AI for Robotics and Self-Driving cars"
   ]
  },
  {
   "cell_type": "markdown",
   "metadata": {},
   "source": [
    "\n",
    "Robotics projects utilize ROS or similar software to integrate all the communications happening inside a robot. ROS is an open-source package and more informaion can be found here: https://ros.org\n",
    "\n",
    "\n",
    "AI is usually implemented in form of multiple nodes that control a particular behavior of a robot or process its sensory data\n",
    "\n",
    "Self-Driving technology may also sometimes utilize Python, but requires faster processing speeds and C++ is usually used. Here a whole understanding of the road and objects around needs to be developed by using available tools from packages above. Each Self-Driving project is unique and may prefer certain type of sensory data or AI technique, but has a goal of reliable driverless technology.\n"
   ]
  },
  {
   "cell_type": "markdown",
   "metadata": {},
   "source": [
    "### AI for Computer Vision"
   ]
  },
  {
   "cell_type": "code",
   "execution_count": 10,
   "metadata": {},
   "outputs": [],
   "source": [
    "# Computer Vision has quite extensive research background and a lot of \n",
    "# techniques have been developed. There is a cross-language (C++/Python/Java)\n",
    "# library called OpenCV (Open Computer Vision) which has many image processing\n",
    "# techniques implemented\n",
    "# To install:\n",
    "#!pip install opencv-python"
   ]
  },
  {
   "cell_type": "code",
   "execution_count": 9,
   "metadata": {},
   "outputs": [],
   "source": [
    "# OpenCV - Open Source Computer Vision Library\n",
    "# http://opencv.org\n",
    "import cv2"
   ]
  },
  {
   "cell_type": "markdown",
   "metadata": {},
   "source": [
    "Computer Vision can utilize many techniques like edge detection and pattern recognition to achieve results and fulfill tasks in Healthcare, Finance, Security, Self-Driving and Robotics as well as in Data Labeling and processing field. Computer Vision will be covered in more detail later in this track."
   ]
  },
  {
   "cell_type": "code",
   "execution_count": null,
   "metadata": {},
   "outputs": [],
   "source": []
  }
 ],
 "metadata": {
  "kernelspec": {
   "display_name": "Python 3",
   "language": "python",
   "name": "python3"
  },
  "language_info": {
   "codemirror_mode": {
    "name": "ipython",
    "version": 3
   },
   "file_extension": ".py",
   "mimetype": "text/x-python",
   "name": "python",
   "nbconvert_exporter": "python",
   "pygments_lexer": "ipython3",
   "version": "3.7.5"
  },
  "pycharm": {
   "stem_cell": {
    "cell_type": "raw",
    "source": [],
    "metadata": {
     "collapsed": false
    }
   }
  }
 },
 "nbformat": 4,
 "nbformat_minor": 2
}